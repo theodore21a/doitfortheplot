{
 "cells": [
  {
   "cell_type": "code",
   "execution_count": 2,
   "id": "b73f598c",
   "metadata": {},
   "outputs": [
    {
     "name": "stderr",
     "output_type": "stream",
     "text": [
      "C:\\Users\\felin\\Downloads\\python\\Lib\\site-packages\\keras\\src\\layers\\core\\embedding.py:90: UserWarning: Argument `input_length` is deprecated. Just remove it.\n",
      "  warnings.warn(\n"
     ]
    },
    {
     "name": "stdout",
     "output_type": "stream",
     "text": [
      "\u001b[1m13/13\u001b[0m \u001b[32m━━━━━━━━━━━━━━━━━━━━\u001b[0m\u001b[37m\u001b[0m \u001b[1m9s\u001b[0m 214ms/step - accuracy: 0.3486 - loss: 1.0972 - val_accuracy: 0.3000 - val_loss: 1.1128\n",
      "\u001b[1m1/1\u001b[0m \u001b[32m━━━━━━━━━━━━━━━━━━━━\u001b[0m\u001b[37m\u001b[0m \u001b[1m1s\u001b[0m 515ms/step\n",
      "Text: This game is amazing!\n",
      "Sentiment: neutral (Confidence: 0.40)\n",
      "\n",
      "Text: The service was terrible\n",
      "Sentiment: neutral (Confidence: 0.40)\n",
      "\n",
      "Text: It's okay, nothing special\n",
      "Sentiment: neutral (Confidence: 0.40)\n",
      "\n"
     ]
    }
   ],
   "source": [
    "import pandas as pd\n",
    "import numpy as np\n",
    "import tensorflow as tf\n",
    "from sklearn.model_selection import train_test_split\n",
    "from sklearn.preprocessing import LabelEncoder\n",
    "from tensorflow.keras.preprocessing.text import Tokenizer\n",
    "from tensorflow.keras.preprocessing.sequence import pad_sequences\n",
    "\n",
    "class SentimentAnalyzer:\n",
    "    def __init__(self, max_length=100, max_words=10000):\n",
    "        self.max_length = max_length\n",
    "        self.max_words = max_words\n",
    "        self.tokenizer = Tokenizer(num_words=self.max_words)\n",
    "        self.label_encoder = LabelEncoder()\n",
    "        self.model = None\n",
    "\n",
    "    def prepare_data(self, df):\n",
    "        df = df.dropna(subset=['text', 'sentiment'])  # Drop rows with missing values\n",
    "        X = df['text'].astype(str)\n",
    "        y = self.label_encoder.fit_transform(df['sentiment'])  # Encode labels\n",
    "        self.tokenizer.fit_on_texts(X)\n",
    "        X_seq = pad_sequences(self.tokenizer.texts_to_sequences(X), maxlen=self.max_length, padding='post')\n",
    "        return train_test_split(X_seq, y, test_size=0.2, random_state=42)\n",
    "\n",
    "    def create_model(self):\n",
    "        model = tf.keras.Sequential([\n",
    "            tf.keras.layers.Embedding(self.max_words, 128, input_length=self.max_length),\n",
    "            tf.keras.layers.Bidirectional(tf.keras.layers.LSTM(64)),\n",
    "            tf.keras.layers.Dense(64, activation='relu'),\n",
    "            tf.keras.layers.Dropout(0.5),\n",
    "            tf.keras.layers.Dense(len(self.label_encoder.classes_), activation='softmax')\n",
    "        ])\n",
    "        model.compile(optimizer='adam', loss='sparse_categorical_crossentropy', metrics=['accuracy'])\n",
    "        return model\n",
    "\n",
    "    def train(self, df, epochs=1, batch_size=32):\n",
    "        X_train, X_test, y_train, y_test = self.prepare_data(df)\n",
    "        self.model = self.create_model()\n",
    "        history = self.model.fit(X_train, y_train, validation_data=(X_test, y_test),\n",
    "                                 epochs=epochs, batch_size=batch_size, verbose=1)\n",
    "        return history\n",
    "\n",
    "    def predict(self, texts):\n",
    "        if isinstance(texts, str):\n",
    "            texts = [texts]\n",
    "        seq = pad_sequences(self.tokenizer.texts_to_sequences(texts), maxlen=self.max_length, padding='post')\n",
    "        preds = self.model.predict(seq)\n",
    "        labels = self.label_encoder.inverse_transform(preds.argmax(axis=1))\n",
    "        conf = preds.max(axis=1)\n",
    "        return list(zip(labels, conf))\n",
    "\n",
    "# Load data and train\n",
    "df = pd.read_csv(r'C:\\Users\\felin\\Downloads\\Sentiment analysis_Social media post.zip')\n",
    "analyzer = SentimentAnalyzer(max_length=100, max_words=10000)\n",
    "\n",
    "# Train the model\n",
    "analyzer.train(df, epochs=1)\n",
    "\n",
    "# Predictions\n",
    "texts = [\"This game is amazing!\", \"The service was terrible\", \"It's okay, nothing special\"]\n",
    "predictions = analyzer.predict(texts)\n",
    "for text, (sentiment, confidence) in zip(texts, predictions):\n",
    "    print(f\"Text: {text}\")\n",
    "    print(f\"Sentiment: {sentiment} (Confidence: {confidence:.2f})\\n\")\n"
   ]
  },
  {
   "cell_type": "code",
   "execution_count": null,
   "id": "d03a0d99",
   "metadata": {},
   "outputs": [],
   "source": []
  }
 ],
 "metadata": {
  "kernelspec": {
   "display_name": "Python 3 (ipykernel)",
   "language": "python",
   "name": "python3"
  },
  "language_info": {
   "codemirror_mode": {
    "name": "ipython",
    "version": 3
   },
   "file_extension": ".py",
   "mimetype": "text/x-python",
   "name": "python",
   "nbconvert_exporter": "python",
   "pygments_lexer": "ipython3",
   "version": "3.11.5"
  }
 },
 "nbformat": 4,
 "nbformat_minor": 5
}
